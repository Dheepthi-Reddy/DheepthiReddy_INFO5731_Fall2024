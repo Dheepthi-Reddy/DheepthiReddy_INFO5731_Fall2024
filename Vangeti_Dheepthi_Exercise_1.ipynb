{
  "cells": [
    {
      "cell_type": "markdown",
      "metadata": {
        "id": "view-in-github",
        "colab_type": "text"
      },
      "source": [
        "<a href=\"https://colab.research.google.com/github/Dheepthi-Reddy/DheepthiReddy_INFO5731_Fall2024/blob/main/Vangeti_Dheepthi_Exercise_1.ipynb\" target=\"_parent\"><img src=\"https://colab.research.google.com/assets/colab-badge.svg\" alt=\"Open In Colab\"/></a>"
      ]
    },
    {
      "cell_type": "markdown",
      "metadata": {
        "id": "DymRJbxDBCnf"
      },
      "source": [
        "# **INFO5731 Exercise 1**\n",
        "\n",
        "This exercise covers a variety of fundamental concepts in Python and is designed to help students improve their coding skills and problem-solving abilities.\n",
        "\n",
        "**Expectations**:\n",
        "*   Students are expected to complete the exercise during lecture period to meet the active participation criteria of the course.\n",
        "*   Use the provided .*ipynb* document to write your code & respond to the questions. Avoid generating a new file.\n",
        "*   Write complete answers and run all the cells before submission.\n",
        "*   Make sure the submission is \"clean\"; *i.e.*, no unnecessary code cells.\n",
        "*   Once finished, allow shared rights from top right corner (*see Canvas for details*).\n",
        "\n",
        "**Total points**: 40\n",
        "\n",
        "**Deadline**: This in-class exercise is due at the end of the day tomorrow, at 11:59 PM.\n",
        "\n",
        "**Late submissions cannot be considered, and no requests will be answered. Manage your time accordingly.**\n"
      ]
    },
    {
      "cell_type": "markdown",
      "source": [
        "## Question 1\n",
        "Write a Python program that  prompts the user to input the length and width of a rectangle, and then calculates and displays the area of the rectangle."
      ],
      "metadata": {
        "id": "FBKvD6O_TY6e"
      }
    },
    {
      "cell_type": "code",
      "source": [
        "# write your answer here\n",
        "\n",
        "# enter the length and width of rectangle\n",
        "len = float(input(\"Length of Rectangle: \"))\n",
        "wid = float(input(\"Width of Rectangle: \"))\n",
        "\n",
        "# area of the rectangle\n",
        "area = print(\"Area of Rectangle is: \", len * wid)\n",
        "a=\"abracadabra\"\n",
        "a.upper()"
      ],
      "metadata": {
        "id": "cikVKDXdTbzE",
        "colab": {
          "base_uri": "https://localhost:8080/",
          "height": 86
        },
        "outputId": "c59c4fae-605d-45ca-b5a1-dc8cc942560a"
      },
      "execution_count": 1,
      "outputs": [
        {
          "output_type": "stream",
          "name": "stdout",
          "text": [
            "Length of Rectangle: 2\n",
            "Width of Rectangle: 4\n",
            "Area of Rectangle is:  8.0\n"
          ]
        },
        {
          "output_type": "execute_result",
          "data": {
            "text/plain": [
              "'ABRACADABRA'"
            ],
            "application/vnd.google.colaboratory.intrinsic+json": {
              "type": "string"
            }
          },
          "metadata": {},
          "execution_count": 1
        }
      ]
    },
    {
      "cell_type": "markdown",
      "source": [
        "## Question 2\n",
        "Create a Python program that interactively takes two numerical inputs from the user and swaps their values without utilizing an extra variable."
      ],
      "metadata": {
        "id": "E9RqrlwdTfvl"
      }
    },
    {
      "cell_type": "code",
      "source": [
        "# write your answer here\n",
        "\n",
        "# enter the input values of a and b\n",
        "a = int(input(\"Assign a value to a: \"))\n",
        "b = int(input(\"Assign a value to b: \"))\n",
        "\n",
        "# to print the given values\n",
        "print(\"value of a: \", a, \"value of b are: \",b)\n",
        "\n",
        "# printing the swapped values\n",
        "a, b = b, a\n",
        "print(\"Swapped values of a and b:-\")\n",
        "print(\"value of a: \", a, \"value of b are: \",b)"
      ],
      "metadata": {
        "id": "4XvRknixTh1g",
        "colab": {
          "base_uri": "https://localhost:8080/"
        },
        "outputId": "a33c5873-37fc-49af-fdf5-80f8cd3a9490"
      },
      "execution_count": 2,
      "outputs": [
        {
          "output_type": "stream",
          "name": "stdout",
          "text": [
            "Assign a value to a: 2\n",
            "Assign a value to b: 4\n",
            "value of a:  2 value of b are:  4\n",
            "Swapped values of a and b:-\n",
            "value of a:  4 value of b are:  2\n"
          ]
        }
      ]
    },
    {
      "cell_type": "markdown",
      "metadata": {
        "id": "03jb4GZsBkBS"
      },
      "source": [
        "## Question 3\n",
        "Write a Python script to determine and print the length of a user-input string."
      ]
    },
    {
      "cell_type": "code",
      "execution_count": 6,
      "metadata": {
        "id": "YaGLbSHHB8Ej",
        "colab": {
          "base_uri": "https://localhost:8080/"
        },
        "outputId": "314b22a7-8ff5-45ad-dee0-630a5b30d4e0"
      },
      "outputs": [
        {
          "output_type": "stream",
          "name": "stdout",
          "text": [
            "Enter a string to find length: welcome to second week of classes\n",
            "33\n"
          ]
        }
      ],
      "source": [
        "# write your answer here\n",
        "\n",
        "# defined a function to find the length of a string\n",
        "def stringLen(strng):\n",
        "    count= 0\n",
        "    for i in strng:\n",
        "        count += 1\n",
        "    return count\n",
        "\n",
        "# finding the length of the string using above function\n",
        "strng = input(\"Enter a string to find length: \")\n",
        "print(stringLen(strng))"
      ]
    },
    {
      "cell_type": "markdown",
      "metadata": {
        "id": "jJDe71iLB616"
      },
      "source": [
        "## Question 4\n",
        "Construct a Python program that counts and displays the occurrences of each character in a given string.\n",
        "\n",
        "Sample String: 'openai.ai',\n",
        "\n",
        "Expected Result: {'a': 2, 'i': 2, '.': 1, 'o': 1, 'p': 1, 'e': 1, 'n': 1}"
      ]
    },
    {
      "cell_type": "code",
      "execution_count": 4,
      "metadata": {
        "id": "MtKskTzbCLaU",
        "colab": {
          "base_uri": "https://localhost:8080/"
        },
        "outputId": "36b7da8a-ae12-4971-b6bd-bece2de0a4c6"
      },
      "outputs": [
        {
          "output_type": "stream",
          "name": "stdout",
          "text": [
            "Enter a string: Occurrence\n",
            "Occurrence of each character:  {'O': 1, 'c': 3, 'u': 1, 'r': 2, 'e': 2, 'n': 1}\n"
          ]
        }
      ],
      "source": [
        "# write your answer here\n",
        "str = input(\"Enter a string: \")\n",
        "\n",
        "count = {}\n",
        "\n",
        "# for loop to iterate over the input string\n",
        "for char in str:\n",
        "    if char in count:\n",
        "        count[char] += 1\n",
        "    else:\n",
        "        count[char] = 1\n",
        "\n",
        "# Display the counts of character\n",
        "print(\"Occurrence of each character: \", count)"
      ]
    },
    {
      "cell_type": "markdown",
      "metadata": {
        "id": "55W9AMdXCSpV"
      },
      "source": [
        "## Question 5\n",
        "Design a Python code to calculate the sum of all elements in a user-provided list."
      ]
    },
    {
      "cell_type": "code",
      "execution_count": 9,
      "metadata": {
        "id": "I57NXsauCec2",
        "colab": {
          "base_uri": "https://localhost:8080/"
        },
        "outputId": "bc7e81d9-7917-4479-b987-cb1c5c318507"
      },
      "outputs": [
        {
          "output_type": "stream",
          "name": "stdout",
          "text": [
            "Enter a list of numbers separated by commas: 1,2,3,4,5\n",
            "The sum of the numbers is:  15.0\n"
          ]
        }
      ],
      "source": [
        "# write your answer here\n",
        "\n",
        "# taking the input of the list using for loop\n",
        "def inputList():\n",
        "    inputLis = input(\"Enter a list of numbers separated by commas: \")\n",
        "    lis = [float(x.strip()) for x in inputLis.split(',')]\n",
        "    return lis\n",
        "\n",
        "# function to find the sum of all the elements of a list\n",
        "def sumOfList(lis):\n",
        "    return sum(lis)\n",
        "\n",
        "# sum of the list elements\n",
        "lis = inputList()\n",
        "if lis is not None:\n",
        "    sum = sumOfList(lis)\n",
        "    print(\"The sum of the numbers is: \", sum)"
      ]
    },
    {
      "cell_type": "markdown",
      "metadata": {
        "id": "4ulBZ6yhCi9F"
      },
      "source": [
        "## Question 6\n",
        "Write a Python program that modifies a given string by replacing all occurrences of its first character with '$', excluding the first character itself.\n",
        "\n",
        "\n",
        "Sample String : 'restart‘\n",
        "Expected Result : 'resta\\$t'"
      ]
    },
    {
      "cell_type": "code",
      "execution_count": 10,
      "metadata": {
        "id": "Fj0XhwbBCw2o",
        "colab": {
          "base_uri": "https://localhost:8080/"
        },
        "outputId": "32cc1a57-3759-4bb5-f164-e1036beb8c95"
      },
      "outputs": [
        {
          "output_type": "stream",
          "name": "stdout",
          "text": [
            "resta$t\n"
          ]
        }
      ],
      "source": [
        "# write your answer here\n",
        "\n",
        "# defining a function to replace the repeated first letter\n",
        "def replaceChar(str):\n",
        "    char = str[0]\n",
        "    str = str.replace(char, '$')\n",
        "    str = char + str[1:]\n",
        "\n",
        "    return str\n",
        "\n",
        "sampleString = 'restart'\n",
        "\n",
        "# using the above defined function to get the replaced char\n",
        "print(replaceChar(sampleString))"
      ]
    },
    {
      "cell_type": "markdown",
      "source": [
        "## Question 7\n",
        "Write a Python program using a while loop to compute the factorial of a user-supplied number."
      ],
      "metadata": {
        "id": "qVXA3q7ET5JI"
      }
    },
    {
      "cell_type": "code",
      "source": [
        "# write your answer here\n",
        "\n",
        "# defined a function to find factorial of a number\n",
        "def factorial(n):\n",
        "    fact = 1\n",
        "    while n > 0:\n",
        "        fact *= n\n",
        "        n -= 1\n",
        "\n",
        "    return fact\n",
        "\n",
        "input_number = int(input(\"Enter a non-negative integer: \"))\n",
        "\n",
        "# if the number is positive\n",
        "if(input_number > 0):\n",
        "  resultedFactorial = factorial(input_number)\n",
        "  print(\"The factorial of the given number is: \", resultedFactorial)\n",
        "# if the number is 0 then the factorial is 1\n",
        "elif(input_number == 0):\n",
        "  resultedFactorial = 1\n",
        "  print(\"The factorial of the given number is: \", resultedFactorial)\n",
        "# we can not compute factorial for a negative number\n",
        "elif(input_number < 0):\n",
        "  print(\"Enter a non-negative integer to compute factorial!\")"
      ],
      "metadata": {
        "id": "Lbt7R6UkT7BA",
        "colab": {
          "base_uri": "https://localhost:8080/"
        },
        "outputId": "8d4c631c-6451-47af-ba4b-78aa588c2967"
      },
      "execution_count": 12,
      "outputs": [
        {
          "output_type": "stream",
          "name": "stdout",
          "text": [
            "Enter a non-negative integer: 8\n",
            "The factorial of the given number is:  40320\n"
          ]
        }
      ]
    },
    {
      "cell_type": "markdown",
      "source": [
        "## Question 8\n",
        "Create a program that accepts a list of numbers as input and outputs a new list containing only the even numbers."
      ],
      "metadata": {
        "id": "6YfbzXMNT--R"
      }
    },
    {
      "cell_type": "code",
      "source": [
        "# write your answer here\n",
        "\n",
        "# function to get the even numbers in a list\n",
        "def getEven(lst):\n",
        "    return [i for i in lst if i % 2 == 0]\n",
        "\n",
        "# input list\n",
        "lis = input(\"Give a list of numbers: \")\n",
        "\n",
        "try:\n",
        "    lst = [float(x) for x in lis.split()]\n",
        "except ValueError:\n",
        "    print(\"Enter the list of numbers in the correct format\")\n",
        "    lst = []\n",
        "\n",
        "evenList = getEven(lst)\n",
        "print(\"The list of even numbers is:\", evenList)"
      ],
      "metadata": {
        "id": "54q7wMQPUAKu",
        "colab": {
          "base_uri": "https://localhost:8080/"
        },
        "outputId": "5e19a888-2a0d-40e4-85b1-fa89f739b602"
      },
      "execution_count": 13,
      "outputs": [
        {
          "output_type": "stream",
          "name": "stdout",
          "text": [
            "Give a list of numbers: 1 2 4 6 4 7 5\n",
            "The list of even numbers is: [2.0, 4.0, 6.0, 4.0]\n"
          ]
        }
      ]
    },
    {
      "cell_type": "markdown",
      "metadata": {
        "id": "_bIP7s1MCzue"
      },
      "source": [
        "## Question 9\n",
        "Design a Python function to check if a number is prime.\n"
      ]
    },
    {
      "cell_type": "code",
      "execution_count": 14,
      "metadata": {
        "id": "w79QilHXD3Mg",
        "colab": {
          "base_uri": "https://localhost:8080/"
        },
        "outputId": "746df0de-fc55-447d-aa46-34c188f37f7c"
      },
      "outputs": [
        {
          "output_type": "stream",
          "name": "stdout",
          "text": [
            "True\n"
          ]
        }
      ],
      "source": [
        "# write your answer here\n",
        "# imported necessary library\n",
        "import math\n",
        "\n",
        "# defined a function for finding a prime number\n",
        "def isPrime(num):\n",
        "\n",
        "    # if the number is less than or equal to 1 then it is not a prime number.\n",
        "    if num <= 1:\n",
        "        return False\n",
        "\n",
        "    # checking the divisibality of the number, with every number from 2 to its square root + 1\n",
        "    # if it is divisible it is not a prime number\n",
        "    for i in range(2, int(math.sqrt(num)) + 1):\n",
        "        if num % i == 0:\n",
        "            return False\n",
        "    # if the number does not ssatisify any of above conditions then it is a prime number\n",
        "    return True\n",
        "\n",
        "number = 17\n",
        "print(isPrime(number))"
      ]
    },
    {
      "cell_type": "markdown",
      "metadata": {
        "id": "xCa2bK9aD4Q3"
      },
      "source": [
        "## Question 10\n",
        "Write a Python program to concatenate following dictionaries to create a new one.\n",
        "\n",
        "Sample Dictionary : dic1={1:10, 2:20}, dic2={3:30, 4:40}, dic3={5:50,6:60},\n",
        "\n",
        "Expected Result : {1: 10, 2: 20, 3: 30, 4: 40, 5: 50, 6: 60}\n"
      ]
    },
    {
      "cell_type": "code",
      "execution_count": 35,
      "metadata": {
        "id": "_z4aLqAbEET1",
        "colab": {
          "base_uri": "https://localhost:8080/"
        },
        "outputId": "5368b9dd-9220-4726-be3c-e6b567b237d7"
      },
      "outputs": [
        {
          "output_type": "stream",
          "name": "stdout",
          "text": [
            "Concatenated Dictionary : {1: 10, 2: 20, 3: 30, 4: 40, 5: 50, 6: 60}\n"
          ]
        }
      ],
      "source": [
        "# write your answer here\n",
        "\n",
        "# sample dictionaries\n",
        "dic1 = {1: 10, 2: 20}\n",
        "dic2 = {3: 30, 4: 40}\n",
        "dic3 = {5: 50, 6: 60}\n",
        "\n",
        "# Concatenatinating the dictionaries\n",
        "concatenated_dic = {**dic1, **dic2, **dic3}\n",
        "\n",
        "print(\"Concatenated Dictionary :\", concatenated_dic)"
      ]
    },
    {
      "cell_type": "markdown",
      "source": [
        "## Question 11\n",
        "Design a Python function that takes a tuple of integers as input and returns the largest and smallest elements."
      ],
      "metadata": {
        "id": "bkyZ2xSZUOst"
      }
    },
    {
      "cell_type": "code",
      "source": [
        "# write your answer here\n",
        "\n",
        "def func(elements):\n",
        "\n",
        "    # Checking if the input tuple has no elements.\n",
        "    if not elements:\n",
        "        raise ValueError(\"The input tuple is empty\")\n",
        "\n",
        "    # finding Largest and Smallest elements using built-in 'max', 'min' functions.\n",
        "    largestElement = max(elements)\n",
        "    smallestElement = min(elements)\n",
        "    return (largestElement, smallestElement)\n",
        "\n",
        "# input tuple\n",
        "tup = (13, 36, 3, 54, 88, -7, 0)\n",
        "largest, smallest = func(tup)\n",
        "print(\"Largest element: \", largest, \"Smallest element: \", smallest)"
      ],
      "metadata": {
        "id": "3FdLRBKOUQEd",
        "colab": {
          "base_uri": "https://localhost:8080/"
        },
        "outputId": "38da74de-f2eb-408b-b9f9-46352d6481bc"
      },
      "execution_count": 15,
      "outputs": [
        {
          "output_type": "stream",
          "name": "stdout",
          "text": [
            "Largest element:  88 Smallest element:  -7\n"
          ]
        }
      ]
    },
    {
      "cell_type": "markdown",
      "source": [
        "## Question 12\n",
        "Write a Python program that counts the frequency of each character in a given string and stores it in a dictionary."
      ],
      "metadata": {
        "id": "O0TVi3gKUTpp"
      }
    },
    {
      "cell_type": "code",
      "source": [
        "# write your answer here\n",
        "\n",
        "# defining a function to get the frequencies of each charecter\n",
        "def frequencyOfChar(str):\n",
        "\n",
        "    # Creating an empty dictionary\n",
        "    freqOfEachChar = {}\n",
        "\n",
        "    for char in str:\n",
        "        # if the char is in the dictionary, incfeamenting the count\n",
        "        if char in freqOfEachChar:\n",
        "            freqOfEachChar[char] += 1\n",
        "        # If the character is not in the dictionary, add it with count 1\n",
        "        else:\n",
        "            freqOfEachChar[char] = 1\n",
        "\n",
        "    return freqOfEachChar\n",
        "\n",
        "str = \"Dheepthi Reddy Vangeti\"\n",
        "\n",
        "# applying the function\n",
        "freq = frequencyOfChar(str)\n",
        "print(\" Frequencies of each charecter:\", freq)"
      ],
      "metadata": {
        "id": "lAtfSfZXUU-h",
        "colab": {
          "base_uri": "https://localhost:8080/"
        },
        "outputId": "11089c32-5a42-4901-aedb-03d0eae1d6ed"
      },
      "execution_count": 16,
      "outputs": [
        {
          "output_type": "stream",
          "name": "stdout",
          "text": [
            " Frequencies of each charecter: {'D': 1, 'h': 2, 'e': 4, 'p': 1, 't': 2, 'i': 2, ' ': 2, 'R': 1, 'd': 2, 'y': 1, 'V': 1, 'a': 1, 'n': 1, 'g': 1}\n"
          ]
        }
      ]
    },
    {
      "cell_type": "markdown",
      "metadata": {
        "id": "0v48Vqa7FrQh"
      },
      "source": [
        "## Question 13\n",
        "Implement a Python script to identify duplicate elements in a provided array of integers. Return -1 if there are no duplicates."
      ]
    },
    {
      "cell_type": "code",
      "execution_count": 19,
      "metadata": {
        "id": "7WEmgq-DF2P1",
        "colab": {
          "base_uri": "https://localhost:8080/"
        },
        "outputId": "a104d3e6-ee99-406d-9734-18994b2cb2ff"
      },
      "outputs": [
        {
          "output_type": "stream",
          "name": "stdout",
          "text": [
            "No duplicates:  -1\n"
          ]
        }
      ],
      "source": [
        "# write your answer here\n",
        "\n",
        "# function to find the duplicates\n",
        "def duplicate(ar):\n",
        "    # sets of already present elements and its duplicates\n",
        "    existing = set()\n",
        "    duplicate = set()\n",
        "\n",
        "    for i in ar:\n",
        "        if i in existing:\n",
        "            # adding the existing number to duplicates\n",
        "            duplicate.add(i)\n",
        "        else:\n",
        "            # if the numer is not existing adding it to existing\n",
        "            existing.add(i)\n",
        "    if duplicate:\n",
        "        return list(duplicate)\n",
        "    else:\n",
        "        return \"-1\"\n",
        "\n",
        "arr = [1, 2, 3, 4, 5, 6]\n",
        "res = duplicate(arr)\n",
        "\n",
        "if res == \"-1\":\n",
        "    print(\"No duplicates: \", res)\n",
        "else:\n",
        "    print(\"Duplicate elements: \", res)"
      ]
    },
    {
      "cell_type": "markdown",
      "metadata": {
        "id": "vD5PYLMuGga_"
      },
      "source": [
        "## Question 14\n",
        "Write a Python script to find the common elements between two lists."
      ]
    },
    {
      "cell_type": "code",
      "execution_count": 20,
      "metadata": {
        "id": "t0D5kdJUGjjw",
        "colab": {
          "base_uri": "https://localhost:8080/"
        },
        "outputId": "a3bc7624-ddf5-4cb5-d240-52fb20cf9883"
      },
      "outputs": [
        {
          "output_type": "stream",
          "name": "stdout",
          "text": [
            "Common elements of the 2 lists are: [12, 22]\n"
          ]
        }
      ],
      "source": [
        "# write your answer here\n",
        "\n",
        "# new function to find the common elements\n",
        "def CommonElements(a, b):\n",
        "\n",
        "    # storing the lists as sets\n",
        "    setA= set(a)\n",
        "    setB = set(b)\n",
        "\n",
        "    # intersection of both the sets\n",
        "    common_elements = setA.intersection(setB)\n",
        "\n",
        "    # resulting list\n",
        "    return list(common_elements)\n",
        "\n",
        "a = [12, 22, 43, 45, 55]\n",
        "b = [44, 53, 26, 12, 22]\n",
        "\n",
        "# common elements of 2 lists\n",
        "commonElements = CommonElements(a, b)\n",
        "print(\"Common elements of the 2 lists are:\", commonElements)"
      ]
    },
    {
      "cell_type": "markdown",
      "metadata": {
        "id": "uHkd-y5VhVWC"
      },
      "source": [
        "## Question 15\n",
        "Write a Python program to randomly divide the students in this class into maximum of eight groups for term projects, each group should have at least 4 students but no more than 6 students (including 6).\n",
        "\n",
        "Here is the students list:\n",
        "\n",
        "student_list_spring_2024=[rb0846,\n",
        "ac1964,\n",
        "hc0612,\n",
        "md0912,\n",
        "ad1198,\n",
        "md0894,\n",
        "md0825,\n",
        "vg0598,\n",
        "vg0433,\n",
        "mh1068,\n",
        "yj0173,\n",
        "pk0553,\n",
        "tk0411,\n",
        "srk0204,\n",
        "sk2922,\n",
        "sk2936,\n",
        "mk1302,\n",
        "mk1317,\n",
        "tk0412,\n",
        "vk0656,\n",
        "sm2985,\n",
        "mm2372,\n",
        "un0045,\n",
        "an0892,\n",
        "sn0913,\n",
        "gp0252,\n",
        "ap1484,\n",
        "mr1765,\n",
        "sr1385,\n",
        "sr1335,\n",
        "hs0665,\n",
        "ms2060,\n",
        "gt0217,\n",
        "nt0385,\n",
        "tv0186,\n",
        "sv1394,\n",
        "sv1752,\n",
        "sv1555,\n",
        "sy0594\n",
        "]\n"
      ]
    },
    {
      "cell_type": "code",
      "execution_count": 3,
      "metadata": {
        "id": "3iGbmcOBhTwy",
        "colab": {
          "base_uri": "https://localhost:8080/"
        },
        "outputId": "7ad5a13f-6004-4b09-bec5-23379f5f52eb"
      },
      "outputs": [
        {
          "output_type": "stream",
          "name": "stdout",
          "text": [
            "Group 1: ['sk2936', 'md0912', 'gp0252', 'sk2922', 'sr1385', 'srk0204']\n",
            "Group 2: ['sr1335', 'yj0173', 'pk0553', 'un0045', 'rb0846']\n",
            "Group 3: ['tk0411', 'hc0612', 'sv1394', 'vk0656', 'vg0598', 'tk0412']\n",
            "Group 4: ['md0825', 'gt0217', 'mk1302', 'ac1964', 'ms2060', 'mk1317']\n",
            "Group 5: ['mm2372', 'ad1198', 'an0892', 'md0894']\n",
            "Group 6: ['mr1765', 'sm2985', 'mh1068', 'vg0433']\n",
            "Group 7: ['sv1555', 'nt0385', 'tv0186', 'sv1752']\n",
            "Group 8: ['sn0913', 'hs0665', 'ap1484', 'sy0594']\n"
          ]
        }
      ],
      "source": [
        "# write your answer here\n",
        "import random\n",
        "\n",
        "def studentGrouping(listOfStudents, max_groups=8, min_size=4, max_size=6):\n",
        "\n",
        "    # Shuffling the student list\n",
        "    random.shuffle(listOfStudents)\n",
        "\n",
        "    groups = []\n",
        "    index = 0\n",
        "    numOfStudents = len(listOfStudents)\n",
        "\n",
        "    # to divide students into groups in the mentioned criteria\n",
        "    while index < numOfStudents:\n",
        "        students_left = numOfStudents - index\n",
        "        remaining_groups = max_groups - len(groups)\n",
        "        max_possible_size = min(max_size, students_left - (remaining_groups - 1) * min_size)\n",
        "        group_size = random.randint(min_size, max_possible_size)\n",
        "\n",
        "        group = listOfStudents[index:index + group_size]\n",
        "        groups.append(group)\n",
        "\n",
        "        index += group_size\n",
        "\n",
        "    return groups\n",
        "\n",
        "# List of students\n",
        "student_list_spring_2024 = [\n",
        "    'rb0846', 'ac1964', 'hc0612', 'md0912', 'ad1198', 'md0894', 'md0825', 'vg0598', 'vg0433', 'mh1068',\n",
        "    'yj0173', 'pk0553', 'tk0411', 'srk0204', 'sk2922', 'sk2936', 'mk1302', 'mk1317', 'tk0412', 'vk0656',\n",
        "    'sm2985', 'mm2372', 'un0045', 'an0892', 'sn0913', 'gp0252', 'ap1484', 'mr1765', 'sr1385', 'sr1335',\n",
        "    'hs0665', 'ms2060', 'gt0217', 'nt0385', 'tv0186', 'sv1394', 'sv1752', 'sv1555', 'sy0594'\n",
        "]\n",
        "\n",
        "# Dividing students into groups\n",
        "groups = studentGrouping(student_list_spring_2024)\n",
        "\n",
        "for i, grp in enumerate(groups, 1):\n",
        "    print(f\"Group {i}: {grp}\")"
      ]
    },
    {
      "cell_type": "markdown",
      "metadata": {
        "id": "fmZ9vX20Qs3d"
      },
      "source": [
        "## Question 16\n",
        "Create a program that takes a positive integer 'n' as input and prints the count of even numbers from 1 to 'n'. Optimize the loop using the continue statement."
      ]
    },
    {
      "cell_type": "code",
      "execution_count": 22,
      "metadata": {
        "id": "W8Jw6sWMQs3d",
        "colab": {
          "base_uri": "https://localhost:8080/"
        },
        "outputId": "4f596f7b-3e63-4ef2-f840-ac49abd0a4bd"
      },
      "outputs": [
        {
          "output_type": "stream",
          "name": "stdout",
          "text": [
            "Enter a positive integer value: 8\n",
            "The count of even numbers for the given integer is:  4\n"
          ]
        }
      ],
      "source": [
        "# write your answer here\n",
        "\n",
        "# defined a function to count the number of even numbers\n",
        "def countOfEvenNumbers(n):\n",
        "\n",
        "    count = 0\n",
        "    for i in range(1, n + 1):\n",
        "        if i % 2 != 0:\n",
        "            continue\n",
        "        count += 1\n",
        "\n",
        "    return count\n",
        "\n",
        "# use input\n",
        "n = int(input(\"Enter a positive integer value: \"))\n",
        "\n",
        "# count of even numbers using the above defined function\n",
        "if n <= 0:\n",
        "  print(\"The number must be a positive value\")\n",
        "else:\n",
        "  evenNumbersCount = countOfEvenNumbers(n)\n",
        "  print(\"The count of even numbers for the given integer is: \", evenNumbersCount)"
      ]
    },
    {
      "cell_type": "markdown",
      "metadata": {
        "id": "hvq4APMhQs3d"
      },
      "source": [
        "## Question 17\n",
        "Develop a Python function called 'count_vowels' that takes a string as input and returns the count of vowels (both lowercase and uppercase) present in the string, ignoring spaces and non-alphabetic characters."
      ]
    },
    {
      "cell_type": "code",
      "execution_count": 21,
      "metadata": {
        "id": "ZnoxhSglQs3d",
        "colab": {
          "base_uri": "https://localhost:8080/"
        },
        "outputId": "0b6528e3-6e06-435b-fb3c-058ea2f229cd"
      },
      "outputs": [
        {
          "output_type": "stream",
          "name": "stdout",
          "text": [
            "The count of vowels in the given string is:  12\n"
          ]
        }
      ],
      "source": [
        "# write your answer here\n",
        "def vowelsCount(str):\n",
        "\n",
        "    # setting the vowel letters in upper and lower case\n",
        "    vowels = set(\"aeiouAEIOU\")\n",
        "    count = 0\n",
        "\n",
        "    # Iterate through each character in the string\n",
        "    for i in str:\n",
        "        if i in vowels:\n",
        "            count += 1\n",
        "\n",
        "    return count\n",
        "\n",
        "input_string = \"Hello! This is the first in class exercise.\"\n",
        "\n",
        "# vowels count of the string using above function\n",
        "vowel_count = vowelsCount(input_string)\n",
        "print(\"The count of vowels in the given string is: \", vowel_count)"
      ]
    },
    {
      "cell_type": "markdown",
      "source": [
        "## Question 18\n",
        "Create a custom exception named ValueTooSmallError in Python. Write a program that takes user input for an age, and if the entered age is less than 18, raise the ValueTooSmallError with an appropriate error message."
      ],
      "metadata": {
        "id": "55FWoSJPVVM6"
      }
    },
    {
      "cell_type": "code",
      "source": [
        "# write your answer here\n",
        "\n",
        "# defined the custom exception\n",
        "class ValueTooSmallError(Exception):\n",
        "    def __init__(self, message):\n",
        "        self.message = message\n",
        "        super().__init__(self.message)\n",
        "\n",
        "# function to verify age\n",
        "def check_age(age):\n",
        "    if age < 18:\n",
        "        raise ValueTooSmallError(\"Age must be 18 or above.\")\n",
        "\n",
        "def main():\n",
        "    try:\n",
        "        # user input of age\n",
        "        age = int(input(\"Enter the age: \"))\n",
        "        # age check using the above defined function above\n",
        "        check_age(age)\n",
        "        print(\"This is an acceptable Age.\")\n",
        "    except ValueError:\n",
        "        print(\"Invalid input. Please enter a valid value.\")\n",
        "    except ValueTooSmallError as e:\n",
        "        print(f\"Error: {e}\")\n",
        "\n",
        "# to run the function\n",
        "if __name__ == \"__main__\":\n",
        "    main()"
      ],
      "metadata": {
        "id": "hwtr1wZmVX5A",
        "colab": {
          "base_uri": "https://localhost:8080/"
        },
        "outputId": "133d0882-ae2b-4281-aa90-b7583f5f4319"
      },
      "execution_count": 23,
      "outputs": [
        {
          "output_type": "stream",
          "name": "stdout",
          "text": [
            "Enter the age: 67\n",
            "This is an acceptable Age.\n"
          ]
        }
      ]
    },
    {
      "cell_type": "markdown",
      "source": [
        "## Question 19\n",
        "Develop a script that reverses a given string without using built-in reverse functions."
      ],
      "metadata": {
        "id": "Q9ecagcaVazW"
      }
    },
    {
      "cell_type": "code",
      "source": [
        "# write your answer here\n",
        "\n",
        "# defining a function to find the reverse of a string\n",
        "def reverseString(s):\n",
        "\n",
        "    reverse_string = \"\"\n",
        "    l = len(s)\n",
        "\n",
        "    # to iterate through the input string\n",
        "    # here the for loop iterates from last index to first index\n",
        "    for i in range(l - 1, -1, -1):\n",
        "        reverse_string += s[i]\n",
        "\n",
        "    return reverse_string\n",
        "\n",
        "input_str = input(\"Enter a string: \")\n",
        "# reversed string\n",
        "reversed_string = reverseString(input_str)\n",
        "\n",
        "print(\"Reversed string: \", reversed_string)"
      ],
      "metadata": {
        "id": "gycgckoAVZjR",
        "colab": {
          "base_uri": "https://localhost:8080/"
        },
        "outputId": "e0e82d6f-eba5-4a44-c88e-30f6b5cdf9c0"
      },
      "execution_count": 16,
      "outputs": [
        {
          "output_type": "stream",
          "name": "stdout",
          "text": [
            "Enter a string: stress\n",
            "Reversed string:  sserts\n"
          ]
        }
      ]
    },
    {
      "cell_type": "markdown",
      "source": [
        "## Question 20\n",
        "Implement a Python script to generate a random password of a specified length."
      ],
      "metadata": {
        "id": "ZFG6RibifMLu"
      }
    },
    {
      "cell_type": "code",
      "source": [
        "# write your answer here\n",
        "\n",
        "import random\n",
        "import string\n",
        "\n",
        "def passwordGeneration(length):\n",
        "\n",
        "    if length < 4:\n",
        "        raise ValueError(\"Password length must be at least 4 characters.\")\n",
        "\n",
        "    # Defining the character sets\n",
        "    letters = string.ascii_letters\n",
        "    digits = string.digits\n",
        "    punctuation = string.punctuation\n",
        "\n",
        "    # Combining the three character sets\n",
        "    all_char = letters + digits + punctuation\n",
        "\n",
        "    # the password must contain at least one character from 3 sets\n",
        "    psw = [\n",
        "        random.choice(string.ascii_lowercase), random.choice(string.ascii_uppercase), random.choice(string.digits), random.choice(string.punctuation)\n",
        "    ]\n",
        "\n",
        "    # remaining charecters of password length can be filled with any random characters from all the 3 charecters\n",
        "    psw += random.choices(all_char, k=length - 4)\n",
        "\n",
        "    # Shuffle the result to ensure randomness\n",
        "    random.shuffle(psw)\n",
        "\n",
        "    # Join the list into a string and return\n",
        "    return ''.join(psw)\n",
        "\n",
        "try:\n",
        "    length = int(input(\"Enter the desired password length (at least 4): \"))\n",
        "    if length < 4:\n",
        "        raise ValueError(\"Password length must be at least 4 characters.\")\n",
        "    pswd = passwordGeneration(length)\n",
        "    print(f\"Generated password: {pswd}\")\n",
        "except ValueError as e:\n",
        "    print(f\"Error: {e}\")\n"
      ],
      "metadata": {
        "id": "BFVrkEi9fNiD",
        "colab": {
          "base_uri": "https://localhost:8080/"
        },
        "outputId": "271bc841-f060-4374-b01b-618d83af2469"
      },
      "execution_count": 23,
      "outputs": [
        {
          "output_type": "stream",
          "name": "stdout",
          "text": [
            "Enter the desired password length (at least 4): 7\n",
            "Generated password: a{d{6RH\n"
          ]
        }
      ]
    },
    {
      "cell_type": "markdown",
      "source": [
        "# Try these questions"
      ],
      "metadata": {
        "id": "6SmvS7nSfbj8"
      }
    },
    {
      "cell_type": "markdown",
      "source": [
        "(21) Define a base class called 'Vehicle' with attributes make and model. Create a derived class Car that inherits from Vehicle and has an additional attribute 'num_doors'. Demonstrate an example of creating an instance of the 'Car' class and accessing its attributes."
      ],
      "metadata": {
        "id": "cboAr5pEWUf5"
      }
    },
    {
      "cell_type": "code",
      "source": [
        "# write your answer here\n",
        "\n",
        "# defined a vehicle class\n",
        "class Vehicle:\n",
        "    def __init__(self, make, model):\n",
        "        self.make = make\n",
        "        self.model = model\n",
        "\n",
        "    def display_info(self):\n",
        "        return f\"Make: {self.make}, Model: {self.model}\"\n",
        "\n",
        "# defined a class Car\n",
        "class Car(Vehicle):\n",
        "    def __init__(self, make, model, num_doors):\n",
        "        super().__init__(make, model)\n",
        "        self.num_doors = num_doors\n",
        "\n",
        "    def display_info(self):\n",
        "\n",
        "        base_info = super().display_info()\n",
        "        return f\"{base_info}, Number of Doors: {self.num_doors}\"\n",
        "\n",
        "# instance of class Car\n",
        "first_car = Car(\"Toyota\", \"Corolla\", 4)\n",
        "\n",
        "# accessing the attributes of Car instance\n",
        "print(\"Information of Car:\")\n",
        "print(first_car.display_info())"
      ],
      "metadata": {
        "id": "phs9gciMWWAW",
        "colab": {
          "base_uri": "https://localhost:8080/"
        },
        "outputId": "0e6ef1e5-7c1e-4b67-b92d-96be11071be7"
      },
      "execution_count": 24,
      "outputs": [
        {
          "output_type": "stream",
          "name": "stdout",
          "text": [
            "Information of Car:\n",
            "Make: Toyota, Model: Corolla, Number of Doors: 4\n"
          ]
        }
      ]
    },
    {
      "cell_type": "markdown",
      "source": [
        "(22) Create a class called 'Shape' with a method calculate_area(). Implement two derived classes 'Circle' and 'Rectangle' that inherit from Shape and override the calculate_area() method. Demonstrate polymorphism by creating instances of both derived classes and calling the calculate_area() method."
      ],
      "metadata": {
        "id": "J8HHefNtePwd"
      }
    },
    {
      "cell_type": "code",
      "source": [
        "# write your answer here\n",
        "\n",
        "import math\n",
        "\n",
        "# Defined the class Shape with 'calculate_area' method\n",
        "class Shape:\n",
        "    def calculate_area(self):\n",
        "        raise NotImplementedError(\"Subclasses must implement this method\")\n",
        "\n",
        "# Defined a derived class Circle\n",
        "class Circle(Shape):\n",
        "    def __init__(self, rad):\n",
        "        self.rad = rad\n",
        "\n",
        "    # calculating the area of circle\n",
        "    def calculate_area(self):\n",
        "        return math.pi * (self.rad ** 2)\n",
        "\n",
        "# Defined a derived class Rectangle\n",
        "class Rectangle(Shape):\n",
        "    def __init__(self, width, height):\n",
        "        self.width = width\n",
        "        self.height = height\n",
        "\n",
        "    # calculating the area of rectangle\n",
        "    def calculate_area(self):\n",
        "        return self.width * self.height\n",
        "\n",
        "# polymorphism of the derived classes\n",
        "def main():\n",
        "\n",
        "    circle = Circle(radius=2)\n",
        "    rectangle = Rectangle(width=2, height=4)\n",
        "\n",
        "    shapes = [circle, rectangle]\n",
        "    for shape in shapes:\n",
        "        print(\"The area of the shape is:\", shape.calculate_area())\n",
        "\n",
        "if __name__ == \"__main__\":\n",
        "    main()"
      ],
      "metadata": {
        "id": "btnMmUZDeRhS",
        "colab": {
          "base_uri": "https://localhost:8080/"
        },
        "outputId": "130f6865-2c94-4f56-d388-5cc7da47a1e9"
      },
      "execution_count": 20,
      "outputs": [
        {
          "output_type": "stream",
          "name": "stdout",
          "text": [
            "The area of the shape is: 12.566370614359172\n",
            "The area of the shape is: 8\n"
          ]
        }
      ]
    },
    {
      "cell_type": "markdown",
      "source": [
        "(23) Write a Python program that prompts the user to enter two numbers and perform a division operation. Handle exceptions for both zero division and invalid input (non-numeric input). Display appropriate error messages for each type of exception and ensure the program does not crash due to these errors."
      ],
      "metadata": {
        "id": "z0oqEAlTeMUS"
      }
    },
    {
      "cell_type": "code",
      "source": [
        "# write your answer here\n",
        "\n",
        "def divisionOperation():\n",
        "    try:\n",
        "        # user input of numerator and denominator\n",
        "        num = float(input(\"Enter numerator: \"))\n",
        "        den = float(input(\"Enter denominator: \"))\n",
        "\n",
        "        # division operation\n",
        "        result = num / den\n",
        "\n",
        "        print(f\"The result of {num} divided by {den} is {result:.2f}\")\n",
        "\n",
        "    except ValueError:\n",
        "        # for invalid input(non-numeric)\n",
        "        print(\"Error: Invalid input. Please enter numeric values.\")\n",
        "\n",
        "    except ZeroDivisionError:\n",
        "        # for division by zero\n",
        "        print(\"Error: Division by zero can not be performed.\")\n",
        "\n",
        "    except Exception as e:\n",
        "        # any other unexpected exceptions\n",
        "        print(f\"An unexpected error occurred: {e}\")\n",
        "\n",
        "if __name__ == \"__main__\":\n",
        "    divisionOperation()"
      ],
      "metadata": {
        "id": "yjdc1zM1eMAs",
        "colab": {
          "base_uri": "https://localhost:8080/"
        },
        "outputId": "96f0237a-6f62-4a06-f848-78530c724707"
      },
      "execution_count": 27,
      "outputs": [
        {
          "output_type": "stream",
          "name": "stdout",
          "text": [
            "Enter numerator: re\n",
            "Error: Invalid input. Please enter numeric values.\n"
          ]
        }
      ]
    },
    {
      "cell_type": "markdown",
      "source": [
        "# Mandatory Question"
      ],
      "metadata": {
        "id": "sZOhks1dXWEe"
      }
    },
    {
      "cell_type": "markdown",
      "source": [
        "**Important:**\n",
        "Reflecting on the first three lectures and the exercises you've completed, please provide feedback on your learning experience. Share your thoughts on whether the material covered was clear, the exercises were helpful, and if you feel more confident in applying Python programming concepts. Additionally, mention any specific areas where you would like more clarification or topics you would like to explore further in future lectures. Your feedback is valuable in shaping the course for an effective learning journey."
      ],
      "metadata": {
        "id": "eqmHVEwaWhbV"
      }
    },
    {
      "cell_type": "code",
      "source": [
        "'''\n",
        "Write your response here.\n",
        "\n",
        "The material covered was clear and the exercises were really helpful in learning Python concepts,\n",
        "I am more confident now after working on the in-class exercices.\n",
        "\n",
        "'''"
      ],
      "metadata": {
        "id": "akAVJn9YBTQT"
      },
      "execution_count": null,
      "outputs": []
    }
  ],
  "metadata": {
    "colab": {
      "provenance": [],
      "toc_visible": true,
      "include_colab_link": true
    },
    "kernelspec": {
      "display_name": "Python 3 (ipykernel)",
      "language": "python",
      "name": "python3"
    },
    "language_info": {
      "codemirror_mode": {
        "name": "ipython",
        "version": 3
      },
      "file_extension": ".py",
      "mimetype": "text/x-python",
      "name": "python",
      "nbconvert_exporter": "python",
      "pygments_lexer": "ipython3",
      "version": "3.9.12"
    }
  },
  "nbformat": 4,
  "nbformat_minor": 0
}